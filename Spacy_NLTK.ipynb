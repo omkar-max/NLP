{
 "cells": [
  {
   "cell_type": "code",
   "execution_count": 1,
   "id": "a2e07809-d5e2-457f-b6b3-cff9a62a660b",
   "metadata": {},
   "outputs": [],
   "source": [
    "import spacy"
   ]
  },
  {
   "cell_type": "code",
   "execution_count": 5,
   "id": "bf31c498-94b6-4946-819e-4d52f2f4b10d",
   "metadata": {},
   "outputs": [],
   "source": [
    "# spacy is the object oriented programming library"
   ]
  },
  {
   "cell_type": "code",
   "execution_count": 2,
   "id": "f30a4bf8-ab86-43f6-a347-30382ba4106e",
   "metadata": {},
   "outputs": [],
   "source": [
    "nlp = spacy.load(\"en_core_web_sm\")"
   ]
  },
  {
   "cell_type": "code",
   "execution_count": 9,
   "id": "f76b112a-1167-4dc3-b60f-49f9f08ecf5c",
   "metadata": {},
   "outputs": [
    {
     "name": "stdout",
     "output_type": "stream",
     "text": [
      "Dr.Sam is a boy.\n",
      "Dr.\n",
      "Sam\n",
      "is\n",
      "a\n",
      "boy\n",
      ".\n",
      "Tharun eat the pizza\n",
      "Tharun\n",
      "eat\n",
      "the\n",
      "pizza\n"
     ]
    }
   ],
   "source": [
    "doc = nlp(\"Dr.Sam is a boy.Tharun eat the pizza\")\n",
    "for sentence in doc.sents:\n",
    "    print(sentence)\n",
    "    for word in sentence:\n",
    "        print(word)"
   ]
  },
  {
   "cell_type": "code",
   "execution_count": 1,
   "id": "618c17b5-5c4b-49cb-93ff-5722a1c5eb7c",
   "metadata": {},
   "outputs": [],
   "source": [
    "import nltk"
   ]
  },
  {
   "cell_type": "code",
   "execution_count": 6,
   "id": "3216092f-79f4-4fa1-8c4a-5244bf8ecb5a",
   "metadata": {},
   "outputs": [],
   "source": [
    "# It is the string based library"
   ]
  },
  {
   "cell_type": "code",
   "execution_count": 3,
   "id": "54587eb1-b7d9-4d08-a859-2d7b29e3cf55",
   "metadata": {},
   "outputs": [
    {
     "name": "stderr",
     "output_type": "stream",
     "text": [
      "[nltk_data] Downloading package punkt_tab to\n",
      "[nltk_data]     C:\\Users\\omkar\\AppData\\Roaming\\nltk_data...\n",
      "[nltk_data]   Unzipping tokenizers\\punkt_tab.zip.\n"
     ]
    },
    {
     "data": {
      "text/plain": [
       "True"
      ]
     },
     "execution_count": 3,
     "metadata": {},
     "output_type": "execute_result"
    }
   ],
   "source": [
    "nltk.download('punkt_tab')"
   ]
  },
  {
   "cell_type": "code",
   "execution_count": 4,
   "id": "5e961f10-15fc-4eab-b8a7-b3ca96e9a3ae",
   "metadata": {},
   "outputs": [
    {
     "data": {
      "text/plain": [
       "['Dr.Sam is a boy.Tharun eat the pizza']"
      ]
     },
     "execution_count": 4,
     "metadata": {},
     "output_type": "execute_result"
    }
   ],
   "source": [
    "from nltk.tokenize import sent_tokenize\n",
    "sent_tokenize(\"Dr.Sam is a boy.Tharun eat the pizza\")"
   ]
  },
  {
   "cell_type": "code",
   "execution_count": null,
   "id": "3a10acb7-cf45-48ed-aa7c-66cf48a5bb77",
   "metadata": {},
   "outputs": [],
   "source": []
  }
 ],
 "metadata": {
  "kernelspec": {
   "display_name": "Python 3 (ipykernel)",
   "language": "python",
   "name": "python3"
  },
  "language_info": {
   "codemirror_mode": {
    "name": "ipython",
    "version": 3
   },
   "file_extension": ".py",
   "mimetype": "text/x-python",
   "name": "python",
   "nbconvert_exporter": "python",
   "pygments_lexer": "ipython3",
   "version": "3.11.7"
  }
 },
 "nbformat": 4,
 "nbformat_minor": 5
}
